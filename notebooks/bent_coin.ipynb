{
 "cells": [
  {
   "cell_type": "markdown",
   "metadata": {},
   "source": [
    "# Statistical Inference via Biased Coin Flips\n",
    "- Want to infer probability of $H$, call it $p_H$, and predict whether next flip is $H$ or $T$."
   ]
  },
  {
   "cell_type": "code",
   "execution_count": 107,
   "metadata": {},
   "outputs": [
    {
     "name": "stdout",
     "output_type": "stream",
     "text": [
      "P(H) = 0.7119850839894851\n"
     ]
    }
   ],
   "source": [
    "import numpy as np\n",
    "from coin import *\n",
    "\n",
    "pH = np.random.uniform()\n",
    "coin = Coin(pHeads=pH)\n",
    "print(\"P(H) =\", pH)"
   ]
  },
  {
   "cell_type": "code",
   "execution_count": 110,
   "metadata": {},
   "outputs": [
    {
     "name": "stdout",
     "output_type": "stream",
     "text": [
      "0.5\n"
     ]
    }
   ],
   "source": [
    "N = 10\n",
    "coin = Coin(pHeads=pH)\n",
    "\n",
    "nFlips = coin.nFlips(N)\n",
    "s = nFlips[1]\n",
    "nH = s.count('H')\n",
    "nT = s.count('T')\n",
    "print(nH/N)\n",
    "\n"
   ]
  },
  {
   "cell_type": "code",
   "execution_count": 111,
   "metadata": {},
   "outputs": [
    {
     "name": "stdout",
     "output_type": "stream",
     "text": [
      "0.43465669073286495\n"
     ]
    }
   ],
   "source": [
    "uniformPrior = np.random.uniform()\n"
   ]
  }
 ],
 "metadata": {
  "kernelspec": {
   "display_name": "nlp",
   "language": "python",
   "name": "python3"
  },
  "language_info": {
   "codemirror_mode": {
    "name": "ipython",
    "version": 3
   },
   "file_extension": ".py",
   "mimetype": "text/x-python",
   "name": "python",
   "nbconvert_exporter": "python",
   "pygments_lexer": "ipython3",
   "version": "3.12.0"
  }
 },
 "nbformat": 4,
 "nbformat_minor": 2
}
