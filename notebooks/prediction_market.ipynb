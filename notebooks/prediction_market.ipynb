{
 "cells": [
  {
   "cell_type": "markdown",
   "metadata": {},
   "source": [
    "# Random Walk Variants"
   ]
  },
  {
   "cell_type": "code",
   "execution_count": 158,
   "metadata": {},
   "outputs": [],
   "source": [
    "import numpy as np\n",
    "import random\n",
    "from matplotlib import pyplot as plt\n",
    "\n",
    "def oneDRandomWalk(nSteps=100, stepSize=1):\n",
    "    simulated = [0 for i in range(nSteps)]\n",
    "    k = 1\n",
    "    while k < nSteps:\n",
    "        step_k = np.random.choice([-1,1])\n",
    "        if step_k == 0:\n",
    "            step_k = -1\n",
    "        simulated[k] = simulated[k-1] + (step_k * stepSize)\n",
    "        k += 1\n",
    "    return simulated\n",
    "\n",
    "def twoDRandomWalk(nSteps=100, stepSize=1):\n",
    "    steps = {0: [-1, 0], 1:[0,1], 2: [1, 0], 3: [0,-1]}\n",
    "    simulated = [[0,0] for i in range(nSteps)]\n",
    "    k = 1\n",
    "    while k < nSteps:\n",
    "        dir_k = np.random.choice([0,1,2,3])\n",
    "        step_k = steps[dir_k]\n",
    "        simulated[k] = [simulated[k-1][0] + stepSize * step_k[0], simulated[k-1][1] + stepSize * step_k[1]]\n",
    "        k += 1\n",
    "    return simulated"
   ]
  },
  {
   "cell_type": "markdown",
   "metadata": {},
   "source": [
    "# Wiener Process & Brownian Motion"
   ]
  },
  {
   "cell_type": "code",
   "execution_count": 161,
   "metadata": {},
   "outputs": [],
   "source": [
    "def oneDBrownianMotion(nSteps=1000, stepSize=0.1):\n",
    "    Y = oneDRandomWalk(nSteps=nSteps, stepSize=np.sqrt(stepSize))\n",
    "    X = [stepSize * i for i in range(nSteps)]\n",
    "    return X, Y\n",
    "\n",
    "def twoDBrownianMotion(nSteps=1000, stepSize=0.1):\n",
    "    x = np.cumsum(\n",
    "        [ np.random.randn() * np.sqrt(stepSize) for i in range(nSteps) ])\n",
    "    y = np.cumsum(\n",
    "        [ np.random.randn() * np.sqrt(stepSize) for i in range(nSteps) ])\n",
    "    return list(x), list(y)\n",
    "\n",
    "def oneDBrownianMotionWithDrift(nSteps=1000, stepSize=0.1, mu=0.5):\n",
    "    simulated = [(mu * stepSize) + np.random.choice([-1,1]) * np.sqrt(stepSize) for i in range(nSteps)]\n",
    "    Y = np.cumsum(simulated)\n",
    "    X = [stepSize * i for i in range(nSteps)]\n",
    "    return X, Y\n",
    "\n",
    "def oneDGeometricBrownianMotion(nSteps=1000, stepSize=1, sigma=0.02, mu=0.0001):\n",
    "    steps = [ (mu - (sigma**2)/2) + np.random.choice([-1,1])*sigma for i in range(nSteps) ]\n",
    "    Y = np.exp(np.cumsum(steps))\n",
    "    X = [ stepSize * i for i in range(nSteps) ]\n",
    "    return X, Y"
   ]
  },
  {
   "cell_type": "code",
   "execution_count": null,
   "metadata": {},
   "outputs": [],
   "source": []
  }
 ],
 "metadata": {
  "kernelspec": {
   "display_name": "nlp",
   "language": "python",
   "name": "python3"
  },
  "language_info": {
   "codemirror_mode": {
    "name": "ipython",
    "version": 3
   },
   "file_extension": ".py",
   "mimetype": "text/x-python",
   "name": "python",
   "nbconvert_exporter": "python",
   "pygments_lexer": "ipython3",
   "version": "3.12.0"
  }
 },
 "nbformat": 4,
 "nbformat_minor": 2
}
