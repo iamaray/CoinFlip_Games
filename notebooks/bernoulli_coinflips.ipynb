{
 "cells": [
  {
   "cell_type": "code",
   "execution_count": 106,
   "metadata": {},
   "outputs": [],
   "source": [
    "import numpy as np\n",
    "import scipy as sc\n",
    "import pandas as pd\n",
    "from coin import *\n",
    "\n",
    "N = 25\n",
    "pHeads = 0.7\n",
    "# H <-> 0, T <-> 1\n",
    "coinDistr = Coin(pHeads=0.7)\n",
    "def makeObservation(N=N, distr=coinDistr):\n",
    "    return [coinDistr.flip() for i in range(N)]"
   ]
  },
  {
   "cell_type": "code",
   "execution_count": 107,
   "metadata": {},
   "outputs": [
    {
     "name": "stdout",
     "output_type": "stream",
     "text": [
      "0.8812908992306926\n"
     ]
    }
   ],
   "source": [
    "bernoulliEntropy = lambda p : p * np.log2(1/p) + (1 - p) * np.log2(1/(1-p))\n",
    "entropyX = bernoulliEntropy(pHeads)\n",
    "print(entropyX)"
   ]
  },
  {
   "cell_type": "code",
   "execution_count": 108,
   "metadata": {},
   "outputs": [
    {
     "name": "stdout",
     "output_type": "stream",
     "text": [
      "       C(N,k)          P(k)  (1/N)log(P(x))\n",
      "0         1.0  1.341069e-04       -0.514573\n",
      "1        25.0  1.436859e-03       -0.563469\n",
      "2       300.0  7.389562e-03       -0.612365\n",
      "3      2300.0  2.427999e-02       -0.661260\n",
      "4     12650.0  5.723140e-02       -0.710156\n",
      "5     53130.0  1.030165e-01       -0.759052\n",
      "6    177100.0  1.471665e-01       -0.807947\n",
      "7    480700.0  1.711936e-01       -0.856843\n",
      "8   1081575.0  1.650796e-01       -0.905739\n",
      "9   2042975.0  1.336359e-01       -0.954634\n",
      "10  3268760.0  9.163601e-02       -1.003530\n",
      "11  4457400.0  5.355351e-02       -1.052426\n",
      "12  5200300.0  2.677676e-02       -1.101322\n",
      "13  5200300.0  1.147575e-02       -1.150217\n",
      "14  4457400.0  4.215583e-03       -1.199113\n",
      "15  3268760.0  1.324897e-03       -1.248009\n",
      "16  2042975.0  3.548832e-04       -1.296904\n",
      "17  1081575.0  8.051973e-05       -1.345800\n",
      "18   480700.0  1.533709e-05       -1.394696\n",
      "19   177100.0  2.421646e-06       -1.443591\n",
      "20    53130.0  3.113545e-07       -1.492487\n",
      "21    12650.0  3.177086e-08       -1.541383\n",
      "22     2300.0  2.475652e-09       -1.590279\n",
      "23      300.0  1.383905e-10       -1.639174\n",
      "24       25.0  4.942517e-12       -1.688070\n",
      "25        1.0  8.472886e-14       -1.736966\n"
     ]
    }
   ],
   "source": [
    "# binary coefficients denoting the number of strings x with k ones\n",
    "coeffCol = np.array([sc.special.binom(N, k) for k in range(N+1)])\n",
    "\n",
    "# probability that a particular string x has k ones\n",
    "stringProbCol = np.array([((1 - pHeads) ** k) * (pHeads ** (N - k)) for k in range(N+1)])\n",
    "\n",
    "# probability of having k 1's in a binary string of length N is C(N, k) * (1 - p)^{k} * (p)^{N - k}\n",
    "probCol = coeffCol * stringProbCol\n",
    "# 1/N * log(P(x))\n",
    "logCol = (1/N) * np.log2(stringProbCol) \n",
    "\n",
    "table = np.array([coeffCol, probCol, logCol])\n",
    "df = pd.DataFrame(table.T, columns=['C(N,k)', 'P(k)', '(1/N)log(P(x))'])\n",
    "print(df)"
   ]
  },
  {
   "cell_type": "code",
   "execution_count": 114,
   "metadata": {},
   "outputs": [
    {
     "name": "stdout",
     "output_type": "stream",
     "text": [
      "3782350.0\n",
      "0.6170755344069891\n"
     ]
    }
   ],
   "source": [
    "beta = 0.1\n",
    "typicalSetCondition = np.absolute(-1*logCol - entropyX) < beta\n",
    "typicalSetCardinality = np.sum(np.array([ coeffCol[i] if typicalSetCondition[i] else 0 for i in range(N)]))\n",
    "prob = np.sum(np.array([coeffCol[k] * stringProbCol[k] if typicalSetCondition[k] else 0 for k in range(N)]))\n",
    "\n",
    "print(typicalSetCardinality)\n",
    "print(prob)"
   ]
  },
  {
   "cell_type": "code",
   "execution_count": 115,
   "metadata": {},
   "outputs": [
    {
     "name": "stdout",
     "output_type": "stream",
     "text": [
      "7119516.0\n",
      "3782350.0\n"
     ]
    }
   ],
   "source": [
    "delta = 0.1\n",
    "smallestDeltaSufficentCardinality = 0\n",
    "typicalSetIntersectionCardinality = 0\n",
    "k = 0\n",
    "\n",
    "while k <= N:\n",
    "    currProb = np.sum(probCol[:k])\n",
    "    if currProb >= 1 - delta:\n",
    "        break\n",
    "    numStrings = coeffCol[k]\n",
    "    smallestDeltaSufficentCardinality += numStrings\n",
    "    if typicalSetCondition[k]:\n",
    "        typicalSetIntersectionCardinality += numStrings\n",
    "        \n",
    "    k += 1\n",
    "\n",
    "print(smallestDeltaSufficentCardinality)\n",
    "print(typicalSetIntersectionCardinality)"
   ]
  },
  {
   "cell_type": "code",
   "execution_count": null,
   "metadata": {},
   "outputs": [],
   "source": []
  }
 ],
 "metadata": {
  "kernelspec": {
   "display_name": "nlp",
   "language": "python",
   "name": "python3"
  },
  "language_info": {
   "codemirror_mode": {
    "name": "ipython",
    "version": 3
   },
   "file_extension": ".py",
   "mimetype": "text/x-python",
   "name": "python",
   "nbconvert_exporter": "python",
   "pygments_lexer": "ipython3",
   "version": "3.12.0"
  }
 },
 "nbformat": 4,
 "nbformat_minor": 2
}
